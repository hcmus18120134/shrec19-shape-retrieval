{
 "cells": [
  {
   "cell_type": "code",
   "execution_count": 1,
   "metadata": {},
   "outputs": [],
   "source": [
    "import math\n",
    "import numpy as np\n",
    "import tensorflow as tf\n",
    "import PIL\n",
    "from pathlib import Path\n",
    "import matplotlib.pyplot as plt\n",
    "\n",
    "random_state = 42"
   ]
  },
  {
   "cell_type": "code",
   "execution_count": 3,
   "metadata": {},
   "outputs": [
    {
     "name": "stdout",
     "output_type": "stream",
     "text": [
      "2.0.0\n",
      "Num GPUs Available:  1\n"
     ]
    }
   ],
   "source": [
    "print(tf.__version__)\n",
    "print(\"Num GPUs Available: \", len(tf.config.experimental.list_physical_devices('GPU')))"
   ]
  },
  {
   "cell_type": "code",
   "execution_count": null,
   "metadata": {},
   "outputs": [],
   "source": [
    "data_path = Path(\"F:\\Workspace\\shrec19retrieval\\data\")\n",
    "do_train = True"
   ]
  },
  {
   "cell_type": "code",
   "execution_count": null,
   "metadata": {},
   "outputs": [],
   "source": [
    "class ImageSequenceGenerator(tf.keras.preprocessing.image.Iterator):\n",
    "    \"\"\" Generate image time sequences from directory\n",
    "        Based on keras DirectoryIterator\n",
    "        Assuming class labels are integers starting from 0\n",
    "    \"\"\"\n",
    "    def __init__(self, \n",
    "                 directory,\n",
    "                 target_size=(224, 224),\n",
    "                 batch_size=32,\n",
    "                 shuffle=True,\n",
    "                 seed=None):\n",
    "        self.directory = Path(directory)\n",
    "        # Count number of classes\n",
    "        self.classes = [subdir.parts[-1] for subdir in self.directory.iterdir() if subdir.is_dir()]\n",
    "        self.num_classes = len(classes)\n",
    "        # Build an index of the image sequences\n",
    "        # in the different class subfolders.\n",
    "        \n",
    "        self.dirnames = []\n",
    "        self.classes = []\n",
    "        for classdir in (self.directory / subdir for subdir in self.classes):\n",
    "            for sampledir in classdir.iterdir():\n",
    "                if sampledir.is_dir():\n",
    "                    self.dirnames.append(sampledir)\n",
    "                    self.classes.append(int(classdir.parts[-1]))\n",
    "        self.samples = len(self.dirnames)\n",
    "        self.classes = np.array(self.classes, dtype='int32')\n",
    "        \n",
    "        print('Found %d sequences belonging to %d classes.' %\n",
    "              (self.samples, self.num_classes))"
   ]
  }
 ],
 "metadata": {
  "kernelspec": {
   "display_name": "Python 3",
   "language": "python",
   "name": "python3"
  },
  "language_info": {
   "codemirror_mode": {
    "name": "ipython",
    "version": 3
   },
   "file_extension": ".py",
   "mimetype": "text/x-python",
   "name": "python",
   "nbconvert_exporter": "python",
   "pygments_lexer": "ipython3",
   "version": "3.7.4"
  }
 },
 "nbformat": 4,
 "nbformat_minor": 2
}
