{
 "cells": [
  {
   "cell_type": "code",
   "execution_count": 28,
   "metadata": {},
   "outputs": [],
   "source": [
    "import math\n",
    "import numpy as np\n",
    "from pathlib import Path\n",
    "from shutil import copy2, copytree\n",
    "from sklearn.model_selection import train_test_split\n",
    "\n",
    "random_state = 42"
   ]
  },
  {
   "cell_type": "code",
   "execution_count": 2,
   "metadata": {},
   "outputs": [],
   "source": [
    "data_path = Path(\"F:\\Datasets\\shrec2019\\data\")\n",
    "\n",
    "query_index_path = Path(\"F:\\Datasets\\shrec2019\\split\\shrec2019_Image_train.txt\")\n",
    "\n",
    "view_path = Path(\"F:\\Workspace\\shrec19retrieval\\shrec19\")\n",
    "\n",
    "output_path = Path(\"F:\\Workspace\\shrec19retrieval\\data\")\n",
    "\n",
    "val_ratio = 0.2\n",
    "\n",
    "n_classes = 21"
   ]
  },
  {
   "cell_type": "code",
   "execution_count": 3,
   "metadata": {},
   "outputs": [
    {
     "name": "stdout",
     "output_type": "stream",
     "text": [
      "Train len: 8400\n",
      "Val len: 2100\n"
     ]
    }
   ],
   "source": [
    "with open(query_index_path, \"r\") as query_index:\n",
    "    paths, labels = zip(*[line.split() for line in query_index])\n",
    "query_train, query_val, label_train, label_val = train_test_split(\n",
    "    paths, labels, test_size=val_ratio, random_state=random_state, stratify=labels\n",
    ")\n",
    "\n",
    "print(\"Train len:\", len(query_train))\n",
    "print(\"Val len:\", len(query_val))"
   ]
  },
  {
   "cell_type": "code",
   "execution_count": 8,
   "metadata": {},
   "outputs": [],
   "source": [
    "query_output_path = output_path / \"query\"\n",
    "\n",
    "try:\n",
    "    for i in range(n_classes):\n",
    "        (query_output_path / \"train\" / str(i)).mkdir(parents=True)\n",
    "        (query_output_path / \"val\" / str(i)).mkdir(parents=True)\n",
    "\n",
    "    for filename, label in zip(query_train, label_train):\n",
    "        src_dir = data_path / filename\n",
    "        dst_dir = query_output_path / \"train\" / str(label) / Path(filename).parts[-1]\n",
    "        copy2(src_dir, dst_dir)\n",
    "\n",
    "    for filename, label in zip(query_val, label_val):\n",
    "        src_dir = data_path / filename\n",
    "        dst_dir = query_output_path / \"val\" / str(label) / Path(filename).parts[-1]\n",
    "        copy2(src_dir, dst_dir)\n",
    "except FileExistsError:\n",
    "    print(\"Error: query data already exists!\")"
   ]
  },
  {
   "cell_type": "code",
   "execution_count": 33,
   "metadata": {},
   "outputs": [],
   "source": [
    "try:\n",
    "    for path_by_label in view_path.iterdir():\n",
    "        paths = list(path_by_label.iterdir())\n",
    "        x_train, x_val = train_test_split(paths, test_size=val_ratio, random_state=random_state)\n",
    "        for src in x_train:\n",
    "            copytree(src, output_path / \"view\" / \"train\" / Path(*Path(src).parts[-2:]))\n",
    "        for src in x_val:\n",
    "            copytree(src, output_path / \"view\" / \"val\" / Path(*Path(src).parts[-2:]))\n",
    "except FileExistsError:\n",
    "    print(\"Error: view data already exists!\")"
   ]
  }
 ],
 "metadata": {
  "kernelspec": {
   "display_name": "Python 3",
   "language": "python",
   "name": "python3"
  },
  "language_info": {
   "codemirror_mode": {
    "name": "ipython",
    "version": 3
   },
   "file_extension": ".py",
   "mimetype": "text/x-python",
   "name": "python",
   "nbconvert_exporter": "python",
   "pygments_lexer": "ipython3",
   "version": "3.7.4"
  }
 },
 "nbformat": 4,
 "nbformat_minor": 2
}
